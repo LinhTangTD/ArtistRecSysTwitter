{
 "cells": [
  {
   "cell_type": "markdown",
   "metadata": {},
   "source": [
    "# ABOUT my dataset: merging 2 major datasets into a file mydata.txt\n",
    "\n",
    "Million Musical Tweets Dataset: http://www.cp.jku.at/datasets/MMTD/\n",
    "\n",
    "Music Brainz: https://musicbrainz.org/doc/MusicBrainz_Database/Download\n",
    "\n",
    "Number of unique artists: 24673\n",
    "\n",
    "Number of unique users: 214741\n",
    "\n",
    "Number of unique tweets: 1074713\n",
    "\n",
    "Number of unique tracks: 133228\n",
    "\n",
    "ALS Implicit Collaborative Filtering: https://medium.com/radon-dev/als-implicit-collaborative-filtering-5ed653ba39fe"
   ]
  },
  {
   "cell_type": "code",
   "execution_count": 2,
   "metadata": {},
   "outputs": [],
   "source": [
    "import numpy as np\n",
    "import pandas as pd\n",
    "import sys\n",
    "import scipy.sparse as sparse\n",
    "from scipy.sparse.linalg import spsolve\n",
    "import random\n",
    "from sklearn.preprocessing import MinMaxScaler\n",
    "import implicit\n",
    "from sklearn.model_selection import train_test_split"
   ]
  },
  {
   "cell_type": "code",
   "execution_count": 3,
   "metadata": {},
   "outputs": [],
   "source": [
    "data = pd.read_csv(\"/Users/MAC/Desktop/MIP 2019/Code/mydata.txt\", header = 0, sep=',', low_memory=False)\n",
    "data = data.drop_duplicates()"
   ]
  },
  {
   "cell_type": "code",
   "execution_count": 4,
   "metadata": {},
   "outputs": [],
   "source": [
    "#### BUILDING 2D RECOMMENDER SYSTEM ###\n",
    "alpha_val = 15\n",
    "users = list(np.sort(data.user_id.unique()))\n",
    "artists = list(data.artists_name.unique())\n",
    "songs = list(data.track_title.unique())\n",
    "\n",
    "data['usercatcode'] = data['user_id'].astype(\"category\").cat.codes\n",
    "data['artistcatcode'] = data['artist_id'].astype(\"category\").cat.codes\n",
    "data['ttime'] = data['tweet_time'].astype(\"category\").cat.codes\n",
    "data['songcatcode'] = data.track_title.astype('category', songs).cat.codes \n",
    "# Build train and test dataset\n",
    "train, test = train_test_split(data, test_size=0.2)"
   ]
  },
  {
   "cell_type": "code",
   "execution_count": 7,
   "metadata": {},
   "outputs": [
    {
     "name": "stderr",
     "output_type": "stream",
     "text": [
      "WARNING:root:Intel MKL BLAS detected. Its highly recommend to set the environment variable 'export MKL_NUM_THREADS=1' to disable its internal multithreading\n",
      "100%|██████████| 50.0/50 [00:27<00:00,  2.08it/s]\n"
     ]
    }
   ],
   "source": [
    "#----------------------------------\n",
    "# ARTISTS RECOMMENDATION MODEL \n",
    "#----------------------------------\n",
    "artist_train = train.groupby(['user_id', 'artists_name', 'artistcatcode', 'usercatcode'])['tweet_id'].count().reset_index(name='tweet_count')\n",
    "artist_data = data.groupby(['user_id', 'artists_name', 'artistcatcode', 'usercatcode'])['tweet_id'].count().reset_index(name='tweet_count')\n",
    "\n",
    "# Create sparse matrices\n",
    "sparse_artist_user = sparse.csr_matrix((artist_train['tweet_count'], (artist_train['artistcatcode'], artist_train['usercatcode'])))\n",
    "sparse_user_artist = sparse.csr_matrix((artist_data['tweet_count'], (artist_data['usercatcode'], artist_data['artistcatcode'])))\n",
    "\n",
    "# Calculate the confidence by multiplying it by our alpha value.\n",
    "userartist_conf = (sparse_artist_user * alpha_val).astype('double')\n",
    "\n",
    "# Initialize the als model_artist and fit it using the sparse artist-user matrix\n",
    "model_artist = implicit.als.AlternatingLeastSquares(factors=20, regularization=0.1, iterations=50)\n",
    "model_artist.fit(userartist_conf) "
   ]
  },
  {
   "cell_type": "code",
   "execution_count": 8,
   "metadata": {},
   "outputs": [],
   "source": [
    "#---------------------\n",
    "# FIND SIMILAR ARTISTS\n",
    "#---------------------\n",
    "n_similar = 20\n",
    "# Find the n most similar to an artist\n",
    "\n",
    "def similar_artists_func(name=random.choice(artists)): \n",
    "    testartist = data.artistcatcode.loc[data.artists_name == name].iloc[0]\n",
    "\n",
    "    # Use implicit to get similar items.\n",
    "    similar = model_artist.similar_items(testartist, n_similar)\n",
    "    \n",
    "    # Print the names of our most similar artists\n",
    "    print('{} similar artists to {}:'.format(n_similar, name))\n",
    "    max_similarity = similar[0][1]\n",
    "    for item in similar:\n",
    "        idx, score = item\n",
    "        percentage = (score / max_similarity) * 100\n",
    "        print(data.artists_name.loc[data.artistcatcode == idx].iloc[0], \"- with a similarity of {:.2f}%\".format(percentage))\n",
    "\n",
    "#-----------------------------------------------\n",
    "# CREATE RECOMMENDATIONS FOR USER\n",
    "#-----------------------------------------------\n",
    "\n",
    "def recommend_artists_func(user_id):\n",
    "    # Create recommendations for user with user_id 161262801\n",
    "    testuser = data.usercatcode.loc[data.user_id == user_id].iloc[0]\n",
    "    # Use the implicit recommender.\n",
    "    recommended = model_artist.recommend(testuser, sparse_user_artist)\n",
    "    # Get artist names from ids\n",
    "    recommend_artist = []\n",
    "    artist_score = []\n",
    "    for idx, score in recommended:\n",
    "        recommend_artist.append(data.artists_name.loc[data.artistcatcode == idx].iloc[0])\n",
    "        artist_score.append(score*100)\n",
    "    print('{} artists recommendations for user {}: \\n{}'.format(n_similar, user_id, recommend_artist), '\\n')\n",
    "    for i in range(10):\n",
    "        print('{}. {}, with a score of {}%'.format(i+1, recommend_artist[i], artist_score[i].round(2)))"
   ]
  },
  {
   "cell_type": "code",
   "execution_count": 12,
   "metadata": {},
   "outputs": [
    {
     "name": "stdout",
     "output_type": "stream",
     "text": [
      "20 similar artists to Avenged Sevenfold:\n",
      "Avenged Sevenfold - with a similarity of 100.00%\n",
      "Fake ID - with a similarity of 96.05%\n",
      "Amnesys - with a similarity of 94.03%\n",
      "Slipknot - with a similarity of 85.35%\n",
      "skankfunk - with a similarity of 83.82%\n",
      "Edinéia Macedo - with a similarity of 83.79%\n",
      "Juno Reactor - with a similarity of 80.29%\n",
      "Inside Out - with a similarity of 77.95%\n",
      "she - with a similarity of 76.93%\n",
      "Vida - with a similarity of 74.51%\n",
      "Bullet for My Valentine - with a similarity of 73.76%\n",
      "Falak - with a similarity of 73.59%\n",
      "System of a Down - with a similarity of 72.65%\n",
      "Dark Lotus - with a similarity of 72.36%\n",
      "Jay Gordon - with a similarity of 72.36%\n",
      "Forgotten - with a similarity of 71.55%\n",
      "Aereogramme - with a similarity of 71.51%\n",
      "Dim Chris - with a similarity of 71.18%\n",
      "Erase the Grey - with a similarity of 69.65%\n",
      "Bass-T - with a similarity of 68.85%\n"
     ]
    }
   ],
   "source": [
    "similar_artists_func('Avenged Sevenfold')"
   ]
  },
  {
   "cell_type": "code",
   "execution_count": 9,
   "metadata": {},
   "outputs": [
    {
     "name": "stdout",
     "output_type": "stream",
     "text": [
      "20 artists recommendations for user 58088831: \n",
      "['Avenged Sevenfold', 'Slipknot', 'System of a Down', 'Bullet for My Valentine', 'Metallica', 'Evanescence', 'Asking Alexandria', 'Skrillex', 'Bring Me the Horizon', 'Future'] \n",
      "\n",
      "1. Avenged Sevenfold, with a score of 0.21%\n",
      "2. Slipknot, with a score of 0.2%\n",
      "3. System of a Down, with a score of 0.14%\n",
      "4. Bullet for My Valentine, with a score of 0.11%\n",
      "5. Metallica, with a score of 0.1%\n",
      "6. Evanescence, with a score of 0.1%\n",
      "7. Asking Alexandria, with a score of 0.1%\n",
      "8. Skrillex, with a score of 0.08%\n",
      "9. Bring Me the Horizon, with a score of 0.08%\n",
      "10. Future, with a score of 0.08%\n"
     ]
    }
   ],
   "source": [
    "recommend_artists_func(random.choice(data.user_id.unique()))"
   ]
  },
  {
   "cell_type": "code",
   "execution_count": 14,
   "metadata": {},
   "outputs": [
    {
     "name": "stderr",
     "output_type": "stream",
     "text": [
      "100%|██████████| 50.0/50 [00:30<00:00,  1.75it/s]\n"
     ]
    }
   ],
   "source": [
    "# ----------------------------\n",
    "# SONGS RECOMMENDATION MODEL\n",
    "#----------------------------\n",
    "\n",
    "# Get the associated row and column indices\n",
    "data['songcatcode'] = data.track_title.astype('category', songs).cat.codes \n",
    "song_train = train.groupby(['user_id', 'track_title', 'usercatcode', 'songcatcode'])['tweet_id'].count().reset_index(name='tweet_count').sort_values(by = 'tweet_count', ascending=False)\n",
    "song_test = data.groupby(['user_id', 'track_title', 'usercatcode', 'songcatcode'])['tweet_id'].count().reset_index(name='tweet_count').sort_values(by = 'tweet_count', ascending=False)\n",
    "\n",
    "# Create sparse matrices\n",
    "sparse_song_user = sparse.csr_matrix((song_train['tweet_count'], (song_train['songcatcode'], song_train['usercatcode'])))\n",
    "sparse_user_song = sparse.csr_matrix((song_test['tweet_count'], (song_test['usercatcode'], song_test['songcatcode'])))\n",
    "\n",
    "# Calculate the confidence by multiplying it by our alpha value.\n",
    "usersong_conf = (sparse_song_user * alpha_val).astype('double')\n",
    "\n",
    "# Initialize the als model and fit it using the sparse song-user matrix\n",
    "model_song = implicit.als.AlternatingLeastSquares(factors=20, regularization=0.1, iterations=50)\n",
    "model_song.fit(usersong_conf)"
   ]
  },
  {
   "cell_type": "code",
   "execution_count": 13,
   "metadata": {},
   "outputs": [],
   "source": [
    "#---------------------\n",
    "# FIND SIMILAR SONGS\n",
    "#---------------------\n",
    "n_similar = 10\n",
    "# Find the 10 most similar to a song\n",
    "def similar_songs(name=random.choice(songs)): \n",
    "    testsong = song_test.songcatcode.loc[song_test.track_title == name].iloc[0]\n",
    "    # Use implicit to get similar items.\n",
    "    similar = model_song.similar_items(testsong, n_similar)\n",
    "    # Print the names of our most similar artists\n",
    "    print('{} similar songs to song \"{}\":'.format(n_similar, name))\n",
    "    max_similarity = similar[0][1]\n",
    "    for item in similar:\n",
    "        idx, score = item\n",
    "        percentage = (score / max_similarity) * 100\n",
    "        print(song_test.track_title.loc[song_test.songcatcode == idx].iloc[0], \"- with a similarity of {:.2f}%\".format(percentage))\n",
    "        \n",
    "#-----------------------------------------------\n",
    "# CREATE SONGS RECOMMENDATIONS FOR USER\n",
    "#-----------------------------------------------       \n",
    "def recommend_songs(user_id=random.choice(users)):\n",
    "    # Create recommendations for user with user_id \n",
    "    testuser = (song_test.usercatcode.loc[usersong.user_id == user_id].iloc[0])\n",
    "\n",
    "    # Use the implicit recommender.\n",
    "    recommended = model_song.recommend(testuser, sparse_user_song)\n",
    "    print('{} songs recommendations for user {}'.format(n_similar, user_id))\n",
    "    # Get artist names from ids\n",
    "    for item in recommended:\n",
    "        idx, score = item\n",
    "        print(song_test.track_title.loc[song_test.songcatcode == idx].iloc[0])"
   ]
  },
  {
   "cell_type": "code",
   "execution_count": null,
   "metadata": {},
   "outputs": [],
   "source": []
  }
 ],
 "metadata": {
  "celltoolbar": "Raw Cell Format",
  "kernelspec": {
   "display_name": "Python 3",
   "language": "python",
   "name": "python3"
  },
  "language_info": {
   "codemirror_mode": {
    "name": "ipython",
    "version": 3
   },
   "file_extension": ".py",
   "mimetype": "text/x-python",
   "name": "python",
   "nbconvert_exporter": "python",
   "pygments_lexer": "ipython3",
   "version": "3.7.1"
  }
 },
 "nbformat": 4,
 "nbformat_minor": 2
}
