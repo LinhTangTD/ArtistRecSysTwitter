{
 "cells": [
  {
   "cell_type": "markdown",
   "metadata": {},
   "source": [
    "# ABOUT\n",
    "\n",
    "Million Musical Tweets Dataset: http://www.cp.jku.at/datasets/MMTD/\n",
    "\n",
    "Music Brainz: https://musicbrainz.org/doc/MusicBrainz_Database/Download\n",
    "\n",
    "Number of unique artists: 24673\n",
    "\n",
    "Number of unique users: 214741\n",
    "\n",
    "Number of unique tweets: 1074713\n",
    "\n",
    "Number of unique tracks: 133228\n",
    "\n",
    "ALS Implicit Collaborative Filtering: https://medium.com/radon-dev/als-implicit-collaborative-filtering-5ed653ba39fe"
   ]
  },
  {
   "cell_type": "markdown",
   "metadata": {},
   "source": [
    "Artist Gender: \n",
    "1 = Male\n",
    "2 = Female\n",
    "3 = Group \n",
    "4 = Other \n",
    "5 = No Info\n",
    "\n",
    "Artist Type: \n",
    "1 = Person \n",
    "2 = Group\n",
    "3 = Other \n",
    "4 = Character \n",
    "5 = Choir \n",
    "6 = No Info"
   ]
  },
  {
   "cell_type": "code",
   "execution_count": 1,
   "metadata": {},
   "outputs": [],
   "source": [
    "import numpy as np\n",
    "import pandas as pd\n",
    "import sys\n",
    "import scipy.sparse as sparse\n",
    "from scipy.sparse.linalg import spsolve\n",
    "import random\n",
    "from sklearn.preprocessing import MinMaxScaler\n",
    "import implicit\n",
    "from sklearn.model_selection import train_test_split"
   ]
  },
  {
   "cell_type": "code",
   "execution_count": 2,
   "metadata": {},
   "outputs": [],
   "source": [
    "data = pd.read_csv(\"/Users/MAC/Desktop/MIP 2019/Code/data.csv\", header = 0, sep=',', low_memory=False)\n",
    "artist_gender = pd.read_csv(\"/Users/MAC/Desktop/MIP 2019/Code/gender_bias.csv\", header = 0, sep=',')\n",
    "artist_type = pd.read_csv(\"/Users/MAC/Desktop/MIP 2019/Code/artist_type.csv\", header = 0, sep=',')\n",
    "ttime = pd.read_csv(\"/Users/MAC/Desktop/MIP 2019/Code/ttime.csv\", header = 0, sep=',')"
   ]
  },
  {
   "cell_type": "code",
   "execution_count": 3,
   "metadata": {},
   "outputs": [],
   "source": [
    "#### BUILDING 2D RECOMMENDER SYSTEM ###\n",
    "alpha_val = 15\n",
    "users = list(np.sort(data.user_id.unique()))\n",
    "artists = list(data.artists_name.unique())\n",
    "songs = list(data.track_title.unique())\n",
    "\n",
    "data['usercatcode'] = data['user_id'].astype(\"category\").cat.codes\n",
    "data['artistcatcode'] = data['artist_id'].astype(\"category\").cat.codes\n",
    "data['ttime'] = data['tweet_time'].astype(\"category\").cat.codes\n",
    "data['songcatcode'] = data.track_title.astype('category', songs).cat.codes \n",
    "# Build train and test dataset\n",
    "train, test = train_test_split(data, test_size=0.2)"
   ]
  },
  {
   "cell_type": "code",
   "execution_count": 4,
   "metadata": {},
   "outputs": [
    {
     "name": "stderr",
     "output_type": "stream",
     "text": [
      "WARNING:root:Intel MKL BLAS detected. Its highly recommend to set the environment variable 'export MKL_NUM_THREADS=1' to disable its internal multithreading\n",
      "100%|██████████| 50.0/50 [00:42<00:00,  1.46it/s]\n"
     ]
    }
   ],
   "source": [
    "#----------------------------------\n",
    "# ARTISTS RECOMMENDATION MODEL \n",
    "#----------------------------------\n",
    "artist_train = train.groupby(['user_id', 'artists_name', 'artistcatcode', 'usercatcode'])['tweet_id'].count().reset_index(name='tweet_count')\n",
    "artist_data = data.groupby(['user_id', 'artists_name', 'artistcatcode', 'usercatcode'])['tweet_id'].count().reset_index(name='tweet_count')\n",
    "\n",
    "# Create sparse matrices\n",
    "sparse_artist_user = sparse.csr_matrix((artist_train['tweet_count'], (artist_train['artistcatcode'], artist_train['usercatcode'])))\n",
    "sparse_user_artist = sparse.csr_matrix((artist_data['tweet_count'], (artist_data['usercatcode'], artist_data['artistcatcode'])))\n",
    "\n",
    "# Calculate the confidence by multiplying it by our alpha value.\n",
    "userartist_conf = (sparse_artist_user * alpha_val).astype('double')\n",
    "\n",
    "# Initialize the als model_artist and fit it using the sparse artist-user matrix\n",
    "model_artist = implicit.als.AlternatingLeastSquares(factors=20, regularization=0.1, iterations=50)\n",
    "model_artist.fit(userartist_conf) "
   ]
  },
  {
   "cell_type": "code",
   "execution_count": 10,
   "metadata": {},
   "outputs": [],
   "source": [
    "# Caculate the sparsity of an item-user matrix\n",
    "def sparsity(matrix):\n",
    "    matrix_size = matrix.shape[0]*matrix.shape[1] # Number of possible interactions in the matrix\n",
    "    num_purchases = len(matrix.nonzero()[0]) # Number of items interacted with\n",
    "    sparsity = 100*(1 - (num_purchases/matrix_size))\n",
    "    return sparsity"
   ]
  },
  {
   "cell_type": "code",
   "execution_count": 11,
   "metadata": {},
   "outputs": [],
   "source": [
    "#-----------------------------------------------\n",
    "# FIND SIMILAR ARTISTS\n",
    "#-----------------------------------------------\n",
    "def similar_artists_func(name=random.choice(artists), n_similar = 10): \n",
    "    testartist = data.artistcatcode.loc[data.artists_name == name].iloc[0]\n",
    "\n",
    "    # Use implicit to get similar items.\n",
    "    similar = model_artist.similar_items(testartist, n_similar)\n",
    "    \n",
    "    # Print the names of our most similar artists\n",
    "    print('{} similar artists to {}:'.format(n_similar, name))\n",
    "    max_similarity = similar[0][1]\n",
    "    for item in similar:\n",
    "        idx, score = item\n",
    "        percentage = (score / max_similarity) * 100\n",
    "        name = data.artists_name.loc[data.artistcatcode == idx].iloc[0]\n",
    "        print(name, \"- with a similarity of {:.2f}%\".format(percentage))"
   ]
  },
  {
   "cell_type": "code",
   "execution_count": 12,
   "metadata": {},
   "outputs": [],
   "source": [
    "#-----------------------------------------------\n",
    "# CREATE RECOMMENDATIONS FOR USER\n",
    "#-----------------------------------------------\n",
    "def recommend_artists_func(user_id = random.choice(users), N=10):\n",
    "        # Create recommendations for user with user_id 161262801\n",
    "    testuser = data.usercatcode.loc[data.user_id == user_id].iloc[0]\n",
    "        # Use the implicit recommender.\n",
    "    recommended = model_artist.recommend(testuser, sparse_user_artist, len(artists))\n",
    "        # Get artist names from ids\n",
    "    recommend_artist = []\n",
    "    artist_score = []\n",
    "    for idx, score in recommended:\n",
    "            #get artist name\n",
    "        aname = data.artists_name.loc[data.artistcatcode == idx].iloc[0]\n",
    "            #get gender bias weight for that artist\n",
    "        agender = data.artist_gender.loc[data.artistcatcode == idx].iloc[0]\n",
    "        ag_bias = artist_gender[agender].loc[artist_gender.user_id == user_id].iloc[0]\n",
    "            #get type bias weight for that artist\n",
    "        atype = data.artist_type.loc[data.artistcatcode == idx].iloc[0]\n",
    "        atype_bias = artist_type[atype].loc[artist_type.user_id == user_id].iloc[0]\n",
    "            #update the final score\n",
    "        score = score*(1 + ag_bias + atype_bias)\n",
    "            #append results to lists\n",
    "        recommend_artist.append(aname)\n",
    "        artist_score.append(score.round(2))\n",
    "            #print out the results\n",
    "    print('{} artists recommendations for user {}:'.format(N, user_id), '\\n')\n",
    "    for i in range(N):\n",
    "        print(i+1, recommend_artist[i], artist_score[i])"
   ]
  },
  {
   "cell_type": "code",
   "execution_count": 13,
   "metadata": {},
   "outputs": [],
   "source": [
    "# FOR COMPARISON: \n",
    "def recommend_artists_func1(user_id = random.choice(users), N = 10):\n",
    "    testuser = data.usercatcode.loc[data.user_id == user_id].iloc[0]\n",
    "    recommended = model_artist.recommend(testuser, sparse_user_artist)\n",
    "    recommend_artist = []\n",
    "    artist_score = []\n",
    "    for idx, score in recommended:\n",
    "        aname = data.artists_name.loc[data.artistcatcode == idx].iloc[0]\n",
    "        recommend_artist.append(aname)\n",
    "        artist_score.append(score.round(2))\n",
    "    print('{} artists recommendations for user {}:'.format(N, user_id), '\\n')\n",
    "    for i in range(N):\n",
    "        print(i+1, recommend_artist[i], artist_score[i])"
   ]
  },
  {
   "cell_type": "code",
   "execution_count": 14,
   "metadata": {},
   "outputs": [
    {
     "name": "stdout",
     "output_type": "stream",
     "text": [
      "10 artists recommendations for user 200110988: \n",
      "\n",
      "1 Rihanna 1.32\n",
      "2 Lady Gaga 1.25\n",
      "3 Adele 1.24\n",
      "4 Maroon 5 0.41\n",
      "5 Bruno Mars 0.81\n",
      "6 Jessie J 1.18\n",
      "7 Britney Spears 0.81\n",
      "8 Taylor Swift 0.81\n",
      "9 Paramore 0.25\n",
      "10 Kelly Clarkson 0.75\n",
      "Results before adding weight \n",
      "\n",
      "10 artists recommendations for user 200110988: \n",
      "\n",
      "1 Rihanna 0.44\n",
      "2 Lady Gaga 0.42\n",
      "3 Adele 0.41\n",
      "4 Maroon 5 0.41\n",
      "5 Bruno Mars 0.41\n",
      "6 Jessie J 0.39\n",
      "7 Britney Spears 0.27\n",
      "8 Taylor Swift 0.27\n",
      "9 Paramore 0.25\n",
      "10 Kelly Clarkson 0.25\n"
     ]
    }
   ],
   "source": [
    "testuser = random.choice(test.user_id.unique())\n",
    "recommend_artists_func(testuser)\n",
    "print('Results before adding weight', '\\n')\n",
    "recommend_artists_func1(testuser)"
   ]
  },
  {
   "cell_type": "code",
   "execution_count": 15,
   "metadata": {},
   "outputs": [
    {
     "data": {
      "text/html": [
       "<div>\n",
       "<style scoped>\n",
       "    .dataframe tbody tr th:only-of-type {\n",
       "        vertical-align: middle;\n",
       "    }\n",
       "\n",
       "    .dataframe tbody tr th {\n",
       "        vertical-align: top;\n",
       "    }\n",
       "\n",
       "    .dataframe thead th {\n",
       "        text-align: right;\n",
       "    }\n",
       "</style>\n",
       "<table border=\"1\" class=\"dataframe\">\n",
       "  <thead>\n",
       "    <tr style=\"text-align: right;\">\n",
       "      <th></th>\n",
       "      <th>tweet_id</th>\n",
       "      <th>user_id</th>\n",
       "      <th>track_id</th>\n",
       "      <th>track_title</th>\n",
       "      <th>artist_id</th>\n",
       "      <th>artists_name</th>\n",
       "      <th>artist_type</th>\n",
       "      <th>artist_area</th>\n",
       "      <th>artist_gender</th>\n",
       "      <th>tweet_month</th>\n",
       "      <th>tweet_year</th>\n",
       "      <th>tweet_time</th>\n",
       "      <th>tweet_day</th>\n",
       "      <th>usercatcode</th>\n",
       "      <th>artistcatcode</th>\n",
       "      <th>ttime</th>\n",
       "      <th>songcatcode</th>\n",
       "    </tr>\n",
       "  </thead>\n",
       "  <tbody>\n",
       "    <tr>\n",
       "      <th>174659</th>\n",
       "      <td>139727322549981184</td>\n",
       "      <td>200110988</td>\n",
       "      <td>4098232</td>\n",
       "      <td>The One That Got Away</td>\n",
       "      <td>228395</td>\n",
       "      <td>Katy Perry</td>\n",
       "      <td>1</td>\n",
       "      <td>222</td>\n",
       "      <td>2</td>\n",
       "      <td>11</td>\n",
       "      <td>2011</td>\n",
       "      <td>Afternoon</td>\n",
       "      <td>weekday</td>\n",
       "      <td>96800</td>\n",
       "      <td>11418</td>\n",
       "      <td>0</td>\n",
       "      <td>77798</td>\n",
       "    </tr>\n",
       "    <tr>\n",
       "      <th>921060</th>\n",
       "      <td>261746215492915200</td>\n",
       "      <td>200110988</td>\n",
       "      <td>10477333</td>\n",
       "      <td>Crying Out Your Name</td>\n",
       "      <td>255764</td>\n",
       "      <td>Loreen</td>\n",
       "      <td>1</td>\n",
       "      <td>202</td>\n",
       "      <td>2</td>\n",
       "      <td>10</td>\n",
       "      <td>2012</td>\n",
       "      <td>Morning</td>\n",
       "      <td>weekday</td>\n",
       "      <td>96800</td>\n",
       "      <td>12839</td>\n",
       "      <td>2</td>\n",
       "      <td>16310</td>\n",
       "    </tr>\n",
       "  </tbody>\n",
       "</table>\n",
       "</div>"
      ],
      "text/plain": [
       "                  tweet_id    user_id  track_id            track_title  \\\n",
       "174659  139727322549981184  200110988   4098232  The One That Got Away   \n",
       "921060  261746215492915200  200110988  10477333   Crying Out Your Name   \n",
       "\n",
       "        artist_id artists_name artist_type artist_area artist_gender  \\\n",
       "174659     228395   Katy Perry           1         222             2   \n",
       "921060     255764       Loreen           1         202             2   \n",
       "\n",
       "        tweet_month  tweet_year tweet_time tweet_day  usercatcode  \\\n",
       "174659           11        2011  Afternoon   weekday        96800   \n",
       "921060           10        2012    Morning   weekday        96800   \n",
       "\n",
       "        artistcatcode  ttime  songcatcode  \n",
       "174659          11418      0        77798  \n",
       "921060          12839      2        16310  "
      ]
     },
     "execution_count": 15,
     "metadata": {},
     "output_type": "execute_result"
    }
   ],
   "source": [
    "data.loc[data.user_id == testuser]"
   ]
  }
 ],
 "metadata": {
  "celltoolbar": "Raw Cell Format",
  "kernelspec": {
   "display_name": "Python 3",
   "language": "python",
   "name": "python3"
  },
  "language_info": {
   "codemirror_mode": {
    "name": "ipython",
    "version": 3
   },
   "file_extension": ".py",
   "mimetype": "text/x-python",
   "name": "python",
   "nbconvert_exporter": "python",
   "pygments_lexer": "ipython3",
   "version": "3.7.1"
  }
 },
 "nbformat": 4,
 "nbformat_minor": 2
}
