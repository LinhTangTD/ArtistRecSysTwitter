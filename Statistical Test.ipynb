{
 "cells": [
  {
   "cell_type": "code",
   "execution_count": 1,
   "metadata": {},
   "outputs": [],
   "source": [
    "import numpy as np\n",
    "import pandas as pd\n",
    "import matplotlib.pyplot as plt\n",
    "from scipy.stats import chi2_contingency\n",
    "from scipy.stats import chi2"
   ]
  },
  {
   "cell_type": "code",
   "execution_count": 2,
   "metadata": {},
   "outputs": [],
   "source": [
    "data_df = pd.read_csv(\"/Users/MAC/Desktop/MIP 2019/Code/mydata.txt\", header = 0, sep=',', low_memory=False)\n",
    "data_df = data_df.drop_duplicates()"
   ]
  },
  {
   "cell_type": "code",
   "execution_count": 3,
   "metadata": {},
   "outputs": [],
   "source": [
    "#visualization between number of tweets and various context types\n",
    "def visual(df):\n",
    "    x = df.columns.tolist()[0]\n",
    "    y = df.columns.tolist()[1]\n",
    "    plt.xlabel(x)\n",
    "    plt.ylabel(y)\n",
    "    plt.bar(np.arange(len(df[x])),df[y])\n",
    "    plt.xticks(np.arange(len(df[x])), df[x])\n",
    "    plt.show() \n",
    "\n",
    "#test of independence to find context attributes that are statistically significant\n",
    "def chi2test(df):\n",
    "    print(df.head())\n",
    "    print()\n",
    "    #run Pearson's Chi-Square Test\n",
    "    stat, p, dof, expected = chi2_contingency(df)\n",
    "    print('degree of freedom = %d' % dof)\n",
    "    # interpret test-statistic\n",
    "    prob = 0.99\n",
    "    critical = chi2.ppf(prob, dof)\n",
    "    print('probability = %.3f, critical value = %.3f, statistics = %.3f' % (prob, critical, stat))\n",
    "    if abs(stat) >= critical:\n",
    "        print('=> Two variables are dependent')\n",
    "    else:\n",
    "        print('=> Two variables are independent')\n",
    "    # interpret p-value\n",
    "    alpha = 1.0 - prob\n",
    "    print('significance level = %.3f, p-value = %.3f' % (alpha, p))\n",
    "    if p <= alpha:\n",
    "        print('=> Two variables are dependent')\n",
    "    else:\n",
    "        print('=> Two variables are independent')\n",
    "\n",
    "#filter out an attribute with specific value, eg. female artists        \n",
    "\n",
    "def filter(attribute, value):\n",
    "    is_value = data_df[attribute]==value #bool value\n",
    "    filtered_df = data_df[is_value]\n",
    "    return filtered_df"
   ]
  },
  {
   "cell_type": "code",
   "execution_count": 4,
   "metadata": {},
   "outputs": [],
   "source": [
    "### DEALING WITH CONTEXTUAL INFORMATION ###\n",
    "\n",
    "#creat a dataframe of 2 columns: a parameter and number of tweets posted on that day in the US\n",
    "day_df = data_df.groupby('tweet_day')['tweet_id'].count().reset_index(name='tweet_count')\n",
    "month_df = data_df.groupby('tweet_month')['tweet_id'].count().reset_index(name='tweet_count')\n",
    "time_df = data_df.groupby('tweet_time')['tweet_id'].count().reset_index(name='tweet_count')\n",
    "song_df = data_df.groupby('track_id')['tweet_id'].count().reset_index(name='tweet_count').sort_values(by = 'tweet_count', ascending=False)\n",
    "user_df = data_df.groupby('user_id')['tweet_id'].count().reset_index(name='tweet_count')\n",
    "\n",
    "#create context matrices\n",
    "timebased_df = data_df.groupby(['user_id','tweet_time'])['tweet_id'].count().unstack(fill_value=0)\n",
    "daybased_df = data_df.groupby(['user_id','tweet_day'])['tweet_id'].count().unstack(fill_value=0)\n",
    "daybased_df['weekday'] = daybased_df['weekday'] / 5\n",
    "daybased_df['weekend'] = daybased_df['weekend'] / 2\n",
    "monthbased_df = data_df.groupby(['user_id','tweet_month'])['tweet_id'].count().unstack(fill_value=0)"
   ]
  }
 ],
 "metadata": {
  "kernelspec": {
   "display_name": "Python 3",
   "language": "python",
   "name": "python3"
  },
  "language_info": {
   "codemirror_mode": {
    "name": "ipython",
    "version": 3
   },
   "file_extension": ".py",
   "mimetype": "text/x-python",
   "name": "python",
   "nbconvert_exporter": "python",
   "pygments_lexer": "ipython3",
   "version": "3.7.1"
  }
 },
 "nbformat": 4,
 "nbformat_minor": 2
}
