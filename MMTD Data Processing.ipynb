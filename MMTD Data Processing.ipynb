{
 "cells": [
  {
   "cell_type": "code",
   "execution_count": 1,
   "metadata": {},
   "outputs": [],
   "source": [
    "import numpy as np\n",
    "import pandas as pd\n",
    "from datetime import datetime as dt\n",
    "\n",
    "locations = \"/home/tanglinh/Desktop/Musical Tweet Data/location.txt\"\n",
    "countries = \"/home/tanglinh/Desktop/Musical Tweet Data/countryInfo.txt\"\n",
    "tweets = \"/home/tanglinh/Desktop/Musical Tweet Data/tweet.txt\"\n",
    "tracks = \"/home/tanglinh/Desktop/Musical Tweet Data/track.txt\"\n",
    "artists = \"/home/tanglinh/Desktop/Musical Tweet Data/artists.txt\"\n",
    "mbartists = '/home/tanglinh/Downloads/mbdump/artist'\n",
    "\n",
    "### PREPROCESSING DATA ###\n",
    "\n",
    "#Create a data frame for tweet.txt and location.txt\n",
    "tweets_df = pd.read_csv(tweets, header = None, sep='\\t')\n",
    "tweets_df.columns = ['file_id', 'tweet_id', 'user_id', 'artistId', 'trackId', 'datetime', 'weekday', \n",
    "                     'longitude', 'latitude']\n",
    "\n",
    "locations_df = pd.read_csv(locations, header = 0, sep='\\t')\n",
    "\n",
    "tracks_df = pd.read_csv(tracks, header = 0, sep='\\t').drop(0)\n",
    "\n",
    "mbartists_df = pd.read_csv(mbartists, header = None, sep='\\t', low_memory=False)\n",
    "mbartists_df.columns = ['id', 'mbid', 'artists_name', 'sort_name', 'begin_date_year', 'begin_date_month', 'begin_date_day', 'end_date_year', 'end_date_month', 'end_date_day', 'artist_type', 'artist_area', 'artist_gender', 'comment', 'edits_pending', 'last_updated', 'ended', 'artist_born', 'artist_died']\n",
    "mbartists_df = mbartists_df.drop(labels = ['id', 'sort_name', 'begin_date_year', 'begin_date_month', 'begin_date_day', 'end_date_year', 'end_date_month', 'end_date_day', 'comment', 'edits_pending', 'last_updated', 'ended', 'artist_born', 'artist_died'], axis=1)\n",
    "\n",
    "artiststxt_df = pd.read_csv(artists, header = 0, sep='\\t')\n",
    "artiststxt_df = pd.merge(artiststxt_df, mbartists_df, left_on='artist_mbid', right_on='mbid')\n",
    "artiststxt_df = artiststxt_df.drop(labels =['artist_name', 'artist_mbid', 'mbid'], axis=1)\n",
    "\n",
    "#create the metadata frame: \n",
    "#joined_table_df = pd.merge(tweets_df, locations_df.drop_duplicates(['longitude', 'latitude']), on=['longitude', 'latitude'], how='right')\n",
    "joined_table_df = pd.merge(tweets_df, tracks_df, left_on=['trackId', 'artistId'], right_on=['track_id', 'track_artistId'])\n",
    "joined_table_df = pd.merge(joined_table_df, artiststxt_df, left_on='artistId', right_on='artist_id')\n",
    "\n",
    "#extract months and timestamp info from datetime strings\n",
    "joined_table_df['datetime'] = pd.to_datetime(joined_table_df['datetime'])\n",
    "joined_table_df['tweet_month'] = joined_table_df['datetime'].dt.month\n",
    "joined_table_df['tweet_year'] = joined_table_df['datetime'].dt.year\n",
    "\n",
    "#cluster hours in the day: 5-12:Morning, 13-17: Afternoon, 18-21: Evening, 22-4: Night\n",
    "hours = joined_table_df['datetime'].dt.hour\n",
    "joined_table_df['tweet_time'] = pd.cut(hours-5+24 *(hours<5),bins=[0, 8, 12, 17, 25],labels=['Morning','Afternoon','Evening','Night'],right=False)\n",
    "\n",
    "#cluster days in the week: Mon-Fri:weekday, Sat + Sun = Weekend\n",
    "joined_table_df['tweet_day'] = pd.cut(joined_table_df['weekday'],bins=[0, 5, 7],labels=['weekday', 'weekend'],right=False)\n",
    "\n",
    "#drop unneccesary columns\n",
    "joined_table_df = joined_table_df.drop(labels = ['longitude', 'latitude', 'weekday', 'trackId', 'track_artistId', 'artistId', 'file_id', 'datetime'], axis=1)\n",
    "joined_table_df.to_csv(index=False, path_or_buf=\"/home/tanglinh/Desktop/mydata.txt\")\n"
   ]
  }
 ],
 "metadata": {
  "kernelspec": {
   "display_name": "Python 3",
   "language": "python",
   "name": "python3"
  },
  "language_info": {
   "codemirror_mode": {
    "name": "ipython",
    "version": 3
   },
   "file_extension": ".py",
   "mimetype": "text/x-python",
   "name": "python",
   "nbconvert_exporter": "python",
   "pygments_lexer": "ipython3",
   "version": "3.7.1"
  }
 },
 "nbformat": 4,
 "nbformat_minor": 2
}
