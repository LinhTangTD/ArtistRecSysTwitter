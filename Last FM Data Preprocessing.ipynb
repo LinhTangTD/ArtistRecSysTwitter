{
 "cells": [
  {
   "cell_type": "code",
   "execution_count": 1,
   "metadata": {
    "collapsed": false
   },
   "outputs": [
    {
     "name": "stderr",
     "output_type": "stream",
     "text": [
      "b'Skipping line 2120260: expected 6 fields, saw 8\\n'\n",
      "b'Skipping line 2446318: expected 6 fields, saw 8\\n'\n",
      "b'Skipping line 11141081: expected 6 fields, saw 8\\n'\n",
      "b'Skipping line 11152099: expected 6 fields, saw 12\\nSkipping line 11152402: expected 6 fields, saw 8\\n'\n",
      "b'Skipping line 11882087: expected 6 fields, saw 8\\n'\n",
      "b'Skipping line 12902539: expected 6 fields, saw 8\\nSkipping line 12935044: expected 6 fields, saw 8\\n'\n",
      "b'Skipping line 17589539: expected 6 fields, saw 8\\n'\n"
     ]
    }
   ],
   "source": [
    "import numpy as np\n",
    "import pandas as pd\n",
    "from datetime import datetime as dt\n",
    "\n",
    "userprofile = \"/home/tanglinh/Desktop/lastfm-dataset-1K/userid-profile.tsv\"\n",
    "useritem = \"/home/tanglinh/Desktop/lastfm-dataset-1K/userid-timestamp-artid-artname-traid-traname.tsv\"\n",
    "mbartists = '/home/tanglinh/Downloads/mbdump/artist'\n",
    "\n",
    "user_df = pd.read_csv(userprofile, header=0, sep='\\t')\n",
    "user_df.colums = ['#id', 'user_gender', 'user_age', 'user_country', 'registered']\n",
    "useritem_df = pd.read_csv(useritem, header=None, sep = '\\t', error_bad_lines=False)\n",
    "useritem_df.columns = ['user_id', 'timestamp', 'artist_id', 'artistname', 'track_id', 'track_name']\n",
    "\n",
    "### PREPROCESSING DATA ###\n",
    "\n",
    "#Create a data frame for tweet.txt and location.txt\n",
    "\n",
    "mbartists_df = pd.read_csv(mbartists, header = None, sep='\\t', low_memory=False)\n",
    "mbartists_df.columns = ['id', 'mbid', 'artists_name', 'sort_name', 'begin_date_year', 'begin_date_month', 'begin_date_day', 'end_date_year', 'end_date_month', 'end_date_day', 'artist_type', 'artist_area', 'artist_gender', 'comment', 'edits_pending', 'last_updated', 'ended', 'artist_born', 'artist_died']\n",
    "mbartists_df = mbartists_df.drop(labels = ['id', 'sort_name', 'begin_date_year', 'begin_date_month', 'begin_date_day', 'end_date_year', 'end_date_month', 'end_date_day', 'comment', 'edits_pending', 'last_updated', 'ended', 'artist_born', 'artist_died'], axis=1)\n",
    "\n",
    "useritem_df = pd.merge(useritem_df, mbartists_df, left_on='artist_id', right_on='mbid')\n",
    "#create the metadata frame: \n",
    "#lastfm = pd.merge(tweets_df, locations_df.drop_duplicates(['longitude', 'latitude']), on=['longitude', 'latitude'], how='right')\n",
    "lastfm = pd.merge(useritem_df, user_df, left_on='user_id', right_on='#id')\n",
    "\n",
    "#extract months and timestamp info from datetime strings\n",
    "lastfm['listening_month'] = pd.to_datetime(lastfm['timestamp']).dt.month\n",
    "\n",
    "#cluster hours in the day: 5-12:Morning, 13-17: Afternoon, 18-21: Evening, 22-4: Night\n",
    "hours = pd.to_datetime(lastfm['timestamp']).dt.hour\n",
    "lastfm['listening_time'] = pd.cut(hours-5+24 *(hours<5),bins=[0, 8, 12, 17, 25],labels=['morning','afternoon','evening','night'],right=False)\n",
    "lastfm = lastfm.drop(labels = ['artistname', 'mbid', '#id', 'registered', 'timestamp'], axis=1)\n",
    "\n",
    "#drop unneccesary columns\n",
    "lastfm.to_csv(index=False, path_or_buf=\"/home/tanglinh/Desktop/lastfmdata.txt\")"
   ]
  }
 ],
 "metadata": {
  "kernelspec": {
   "display_name": "Python 3",
   "language": "python",
   "name": "python3"
  },
  "language_info": {
   "codemirror_mode": {
    "name": "ipython",
    "version": 3
   },
   "file_extension": ".py",
   "mimetype": "text/x-python",
   "name": "python",
   "nbconvert_exporter": "python",
   "pygments_lexer": "ipython3",
   "version": "3.5.3"
  }
 },
 "nbformat": 4,
 "nbformat_minor": 2
}
